{
  "nbformat": 4,
  "nbformat_minor": 0,
  "metadata": {
    "colab": {
      "provenance": [],
      "authorship_tag": "ABX9TyOBpio+p6dpL//y9MTahioa",
      "include_colab_link": true
    },
    "kernelspec": {
      "name": "python3",
      "display_name": "Python 3"
    },
    "language_info": {
      "name": "python"
    }
  },
  "cells": [
    {
      "cell_type": "markdown",
      "metadata": {
        "id": "view-in-github",
        "colab_type": "text"
      },
      "source": [
        "<a href=\"https://colab.research.google.com/github/ahd-rafi/Machine-Learning-Projects/blob/main/Machine_Learning_L1_B.ipynb\" target=\"_parent\"><img src=\"https://colab.research.google.com/assets/colab-badge.svg\" alt=\"Open In Colab\"/></a>"
      ]
    },
    {
      "cell_type": "markdown",
      "source": [
        "**LINEAR REGRESSION USING MULTIPLE FEATURES**"
      ],
      "metadata": {
        "id": "G8iP4WAyEhp0"
      }
    },
    {
      "cell_type": "code",
      "source": [],
      "metadata": {
        "id": "nvvuGbRIFCnL"
      },
      "execution_count": null,
      "outputs": []
    }
  ]
}