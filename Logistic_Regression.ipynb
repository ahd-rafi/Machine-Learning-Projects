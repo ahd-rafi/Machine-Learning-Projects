{
  "nbformat": 4,
  "nbformat_minor": 0,
  "metadata": {
    "colab": {
      "provenance": [],
      "authorship_tag": "ABX9TyMdhPd1xQEXdPzy5VqWzKKd",
      "include_colab_link": true
    },
    "kernelspec": {
      "name": "python3",
      "display_name": "Python 3"
    },
    "language_info": {
      "name": "python"
    }
  },
  "cells": [
    {
      "cell_type": "markdown",
      "metadata": {
        "id": "view-in-github",
        "colab_type": "text"
      },
      "source": [
        "<a href=\"https://colab.research.google.com/github/ahd-rafi/Machine-Learning-Projects/blob/main/Logistic_Regression.ipynb\" target=\"_parent\"><img src=\"https://colab.research.google.com/assets/colab-badge.svg\" alt=\"Open In Colab\"/></a>"
      ]
    },
    {
      "cell_type": "markdown",
      "source": [
        "**Logistic Regression**\n",
        "\n",
        "\n",
        "\n",
        "\n",
        "\n",
        "\n",
        "Jovian Link: https://jovian.ai/aakashns/python-sklearn-logistic-regression"
      ],
      "metadata": {
        "id": "5Ql7vZXpYNUm"
      }
    },
    {
      "cell_type": "code",
      "source": [],
      "metadata": {
        "id": "5H6PxWDFcbUt"
      },
      "execution_count": null,
      "outputs": []
    }
  ]
}