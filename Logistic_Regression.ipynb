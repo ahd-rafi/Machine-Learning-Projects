{
  "nbformat": 4,
  "nbformat_minor": 0,
  "metadata": {
    "colab": {
      "provenance": [],
      "authorship_tag": "ABX9TyMgv0FGEY4BOF8iNlvaP32h",
      "include_colab_link": true
    },
    "kernelspec": {
      "name": "python3",
      "display_name": "Python 3"
    },
    "language_info": {
      "name": "python"
    }
  },
  "cells": [
    {
      "cell_type": "markdown",
      "metadata": {
        "id": "view-in-github",
        "colab_type": "text"
      },
      "source": [
        "<a href=\"https://colab.research.google.com/github/ahd-rafi/Machine-Learning-Projects/blob/main/Logistic_Regression.ipynb\" target=\"_parent\"><img src=\"https://colab.research.google.com/assets/colab-badge.svg\" alt=\"Open In Colab\"/></a>"
      ]
    },
    {
      "cell_type": "markdown",
      "source": [
        "**Logistic Regression**\n",
        "\n",
        "\n",
        "\n",
        "\n",
        "\n",
        "\n",
        "Jovian Link: https://jovian.ai/aakashns/python-sklearn-logistic-regression"
      ],
      "metadata": {
        "id": "5Ql7vZXpYNUm"
      }
    },
    {
      "cell_type": "code",
      "source": [
        "!pip install opendatasets --upgrade --quiet\n"
      ],
      "metadata": {
        "id": "5H6PxWDFcbUt"
      },
      "execution_count": 5,
      "outputs": []
    },
    {
      "cell_type": "code",
      "source": [
        "import opendatasets as od\n",
        "\n",
        "od.version()"
      ],
      "metadata": {
        "colab": {
          "base_uri": "https://localhost:8080/",
          "height": 36
        },
        "id": "HEurL8ncmZI4",
        "outputId": "c9b02ea7-f1a4-4188-e56d-384c711d2da0"
      },
      "execution_count": 6,
      "outputs": [
        {
          "output_type": "execute_result",
          "data": {
            "text/plain": [
              "'0.1.22'"
            ],
            "application/vnd.google.colaboratory.intrinsic+json": {
              "type": "string"
            }
          },
          "metadata": {},
          "execution_count": 6
        }
      ]
    },
    {
      "cell_type": "code",
      "source": [
        "  dataset_url = \"https://www.kaggle.com/datasets/jsphyg/weather-dataset-rattle-package\""
      ],
      "metadata": {
        "id": "nUlLykP2mdjz"
      },
      "execution_count": 7,
      "outputs": []
    },
    {
      "cell_type": "code",
      "source": [
        "od.download(dataset_url)"
      ],
      "metadata": {
        "id": "WyXxINnLo6wj",
        "colab": {
          "base_uri": "https://localhost:8080/"
        },
        "outputId": "89ca2809-441a-4de5-98bb-10914cde57da"
      },
      "execution_count": 8,
      "outputs": [
        {
          "output_type": "stream",
          "name": "stdout",
          "text": [
            "Skipping, found downloaded files in \"./weather-dataset-rattle-package\" (use force=True to force download)\n"
          ]
        }
      ]
    }
  ]
}